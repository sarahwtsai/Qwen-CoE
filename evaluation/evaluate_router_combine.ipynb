{
 "cells": [
  {
   "cell_type": "markdown",
   "metadata": {},
   "source": [
    "# Evaluate Router Performance (CombineQA)"
   ]
  },
  {
   "cell_type": "code",
   "execution_count": 32,
   "metadata": {},
   "outputs": [],
   "source": [
    "import torch\n",
    "import sys\n",
    "import pandas as pd\n",
    "import ast\n",
    "import numpy as np\n",
    "\n",
    "sys.path.append('../training')\n",
    "from router import Router"
   ]
  },
  {
   "cell_type": "code",
   "execution_count": 3,
   "metadata": {},
   "outputs": [],
   "source": [
    "DEVICE = torch.device(\"cuda\" if torch.cuda.is_available() else \"mps\" if torch.backends.mps.is_available() else \"cpu\")"
   ]
  },
  {
   "cell_type": "code",
   "execution_count": 4,
   "metadata": {},
   "outputs": [],
   "source": [
    "# Load trained router\n",
    "def load_router(device, model_path=\"router.pth\"):\n",
    "    router = Router(input_dim=1024, output_dim=4).to(device)\n",
    "    router.load_state_dict(torch.load(model_path, map_location=device))\n",
    "    router.eval()\n",
    "    return router"
   ]
  },
  {
   "cell_type": "code",
   "execution_count": 5,
   "metadata": {},
   "outputs": [
    {
     "data": {
      "text/html": [
       "<div>\n",
       "<style scoped>\n",
       "    .dataframe tbody tr th:only-of-type {\n",
       "        vertical-align: middle;\n",
       "    }\n",
       "\n",
       "    .dataframe tbody tr th {\n",
       "        vertical-align: top;\n",
       "    }\n",
       "\n",
       "    .dataframe thead th {\n",
       "        text-align: right;\n",
       "    }\n",
       "</style>\n",
       "<table border=\"1\" class=\"dataframe\">\n",
       "  <thead>\n",
       "    <tr style=\"text-align: right;\">\n",
       "      <th></th>\n",
       "      <th>question</th>\n",
       "      <th>subject</th>\n",
       "      <th>embedding</th>\n",
       "      <th>Qwen_correct</th>\n",
       "      <th>MathQwen_correct</th>\n",
       "      <th>CodeQwen_correct</th>\n",
       "      <th>label</th>\n",
       "    </tr>\n",
       "  </thead>\n",
       "  <tbody>\n",
       "    <tr>\n",
       "      <th>0</th>\n",
       "      <td>Find the degree for the given field extension ...</td>\n",
       "      <td>abstract_algebra</td>\n",
       "      <td>[-0.00849960371851921, 0.02478231117129326, -0...</td>\n",
       "      <td>0</td>\n",
       "      <td>1</td>\n",
       "      <td>0</td>\n",
       "      <td>[0, 1, 0]</td>\n",
       "    </tr>\n",
       "    <tr>\n",
       "      <th>1</th>\n",
       "      <td>Let p = (1, 2, 5, 4)(2, 3) in S_5 . Find the i...</td>\n",
       "      <td>abstract_algebra</td>\n",
       "      <td>[0.02112336829304695, 0.023575058206915855, -0...</td>\n",
       "      <td>0</td>\n",
       "      <td>0</td>\n",
       "      <td>0</td>\n",
       "      <td>[0, 0, 0]</td>\n",
       "    </tr>\n",
       "    <tr>\n",
       "      <th>2</th>\n",
       "      <td>Find all zeros in the indicated finite field o...</td>\n",
       "      <td>abstract_algebra</td>\n",
       "      <td>[0.029676876962184906, 0.033119432628154755, -...</td>\n",
       "      <td>0</td>\n",
       "      <td>0</td>\n",
       "      <td>0</td>\n",
       "      <td>[0, 0, 0]</td>\n",
       "    </tr>\n",
       "    <tr>\n",
       "      <th>3</th>\n",
       "      <td>Statement 1 | A factor group of a non-Abelian ...</td>\n",
       "      <td>abstract_algebra</td>\n",
       "      <td>[0.009602331556379795, 0.02028682269155979, -0...</td>\n",
       "      <td>0</td>\n",
       "      <td>1</td>\n",
       "      <td>0</td>\n",
       "      <td>[0, 1, 0]</td>\n",
       "    </tr>\n",
       "    <tr>\n",
       "      <th>4</th>\n",
       "      <td>Find the product of the given polynomials in t...</td>\n",
       "      <td>abstract_algebra</td>\n",
       "      <td>[0.04502462223172188, 0.03369951620697975, -0....</td>\n",
       "      <td>1</td>\n",
       "      <td>0</td>\n",
       "      <td>0</td>\n",
       "      <td>[1, 0, 0]</td>\n",
       "    </tr>\n",
       "  </tbody>\n",
       "</table>\n",
       "</div>"
      ],
      "text/plain": [
       "                                            question           subject  \\\n",
       "0  Find the degree for the given field extension ...  abstract_algebra   \n",
       "1  Let p = (1, 2, 5, 4)(2, 3) in S_5 . Find the i...  abstract_algebra   \n",
       "2  Find all zeros in the indicated finite field o...  abstract_algebra   \n",
       "3  Statement 1 | A factor group of a non-Abelian ...  abstract_algebra   \n",
       "4  Find the product of the given polynomials in t...  abstract_algebra   \n",
       "\n",
       "                                           embedding  Qwen_correct  \\\n",
       "0  [-0.00849960371851921, 0.02478231117129326, -0...             0   \n",
       "1  [0.02112336829304695, 0.023575058206915855, -0...             0   \n",
       "2  [0.029676876962184906, 0.033119432628154755, -...             0   \n",
       "3  [0.009602331556379795, 0.02028682269155979, -0...             0   \n",
       "4  [0.04502462223172188, 0.03369951620697975, -0....             1   \n",
       "\n",
       "   MathQwen_correct  CodeQwen_correct      label  \n",
       "0                 1                 0  [0, 1, 0]  \n",
       "1                 0                 0  [0, 0, 0]  \n",
       "2                 0                 0  [0, 0, 0]  \n",
       "3                 1                 0  [0, 1, 0]  \n",
       "4                 0                 0  [1, 0, 0]  "
      ]
     },
     "execution_count": 5,
     "metadata": {},
     "output_type": "execute_result"
    }
   ],
   "source": [
    "# Load in MMLU question embeddings\n",
    "mmlu = pd.read_csv('../training/mmlu_test_metadata.csv', usecols=['subject','question', 'embedding', 'Qwen_correct', 'MathQwen_correct', 'CodeQwen_correct', 'label'])\n",
    "mmlu.head()"
   ]
  },
  {
   "cell_type": "code",
   "execution_count": 6,
   "metadata": {},
   "outputs": [],
   "source": [
    "all_embeds = mmlu['embedding'].apply(lambda x: torch.tensor(ast.literal_eval(x)).to(DEVICE))\n",
    "all_embeds = torch.stack(list((all_embeds)))\n",
    "# all_labels = mmlu['label'].apply(lambda x: ast.literal_eval(x))\n",
    "all_subjects = mmlu['subject']\n",
    "\n",
    "# Change [0,0,0] to [0,0,0,1] to simulate choosing a fallback LLM\n",
    "def expand_labels(label):\n",
    "    if label == '[0, 0, 0]':\n",
    "        return [0,0,0,1]\n",
    "    else:\n",
    "        return ast.literal_eval(label) + [0]\n",
    "    \n",
    "all_labels = mmlu['label'].apply(expand_labels)"
   ]
  },
  {
   "cell_type": "code",
   "execution_count": 48,
   "metadata": {},
   "outputs": [
    {
     "name": "stderr",
     "output_type": "stream",
     "text": [
      "/var/folders/zw/l2yscsyd14xd9zpy38sqz5tc0040p3/T/ipykernel_3915/2334557830.py:20: DeprecationWarning: __array__ implementation doesn't accept a copy keyword, so passing copy=False failed. __array__ must implement 'dtype' and 'copy' keyword arguments. To learn more, see the migration guide https://numpy.org/devdocs/numpy_2_0_migration_guide.html#adapting-to-changes-in-the-copy-keyword\n",
      "  pred = np.array(predicted_indices[i].cpu())\n"
     ]
    },
    {
     "name": "stdout",
     "output_type": "stream",
     "text": [
      "Overall Accuracy: 0.124\n"
     ]
    },
    {
     "data": {
      "text/html": [
       "<div>\n",
       "<style scoped>\n",
       "    .dataframe tbody tr th:only-of-type {\n",
       "        vertical-align: middle;\n",
       "    }\n",
       "\n",
       "    .dataframe tbody tr th {\n",
       "        vertical-align: top;\n",
       "    }\n",
       "\n",
       "    .dataframe thead th {\n",
       "        text-align: right;\n",
       "    }\n",
       "</style>\n",
       "<table border=\"1\" class=\"dataframe\">\n",
       "  <thead>\n",
       "    <tr style=\"text-align: right;\">\n",
       "      <th></th>\n",
       "      <th>Subject</th>\n",
       "      <th>Accuracy</th>\n",
       "      <th>Label</th>\n",
       "      <th>Prediction</th>\n",
       "    </tr>\n",
       "  </thead>\n",
       "  <tbody>\n",
       "    <tr>\n",
       "      <th>0</th>\n",
       "      <td>abstract_algebra</td>\n",
       "      <td>0</td>\n",
       "      <td>[0, 1, 0, 0]</td>\n",
       "      <td>(0.0, 0.0, 0.0, 0.0)</td>\n",
       "    </tr>\n",
       "    <tr>\n",
       "      <th>1</th>\n",
       "      <td>abstract_algebra</td>\n",
       "      <td>1</td>\n",
       "      <td>[0, 0, 0, 1]</td>\n",
       "      <td>(0.0, 0.0, 0.0, 1.0)</td>\n",
       "    </tr>\n",
       "    <tr>\n",
       "      <th>2</th>\n",
       "      <td>abstract_algebra</td>\n",
       "      <td>0</td>\n",
       "      <td>[0, 0, 0, 1]</td>\n",
       "      <td>(1.0, 0.0, 1.0, 0.0)</td>\n",
       "    </tr>\n",
       "    <tr>\n",
       "      <th>3</th>\n",
       "      <td>abstract_algebra</td>\n",
       "      <td>0</td>\n",
       "      <td>[0, 1, 0, 0]</td>\n",
       "      <td>(0.0, 0.0, 0.0, 0.0)</td>\n",
       "    </tr>\n",
       "    <tr>\n",
       "      <th>4</th>\n",
       "      <td>abstract_algebra</td>\n",
       "      <td>0</td>\n",
       "      <td>[1, 0, 0, 0]</td>\n",
       "      <td>(0.0, 0.0, 0.0, 1.0)</td>\n",
       "    </tr>\n",
       "  </tbody>\n",
       "</table>\n",
       "</div>"
      ],
      "text/plain": [
       "            Subject  Accuracy         Label            Prediction\n",
       "0  abstract_algebra         0  [0, 1, 0, 0]  (0.0, 0.0, 0.0, 0.0)\n",
       "1  abstract_algebra         1  [0, 0, 0, 1]  (0.0, 0.0, 0.0, 1.0)\n",
       "2  abstract_algebra         0  [0, 0, 0, 1]  (1.0, 0.0, 1.0, 0.0)\n",
       "3  abstract_algebra         0  [0, 1, 0, 0]  (0.0, 0.0, 0.0, 0.0)\n",
       "4  abstract_algebra         0  [1, 0, 0, 0]  (0.0, 0.0, 0.0, 1.0)"
      ]
     },
     "execution_count": 48,
     "metadata": {},
     "output_type": "execute_result"
    }
   ],
   "source": [
    "ckpt = '/Users/swtsai/Documents/Qwen-CoE/training/checkpoints_combine/epochs=1500_patience=50_batch=16_lr=0.0001/epoch=1474_loss=0.925_tacc=0.415_vacc=0.307.pth'\n",
    "model = load_router(DEVICE, model_path=ckpt)\n",
    "\n",
    "with torch.no_grad():\n",
    "    outputs = model(all_embeds)\n",
    "    predicted_indices = (outputs > 0.5).float()\n",
    "    \n",
    "correct = 0\n",
    "all_correct = []\n",
    "fallback_count = 0\n",
    "zero_count = 0\n",
    "all_pred = []\n",
    "for i in range(len(all_labels)):\n",
    "    pred = np.array(predicted_indices[i].cpu())\n",
    "    label = np.array(all_labels[i])\n",
    "    match = np.sum(pred * label)\n",
    "\n",
    "    all_pred.append(tuple(pred.tolist()))\n",
    "\n",
    "    if match == 1:\n",
    "        correct += 1\n",
    "        all_correct.append(1)\n",
    "    else:\n",
    "        all_correct.append(0)\n",
    "\n",
    "total_examples = len(all_labels)\n",
    "accuracy = correct / total_examples\n",
    "print(f'Overall Accuracy: {accuracy:.3f}')\n",
    "\n",
    "results_dict = {'Subject': all_subjects, 'Accuracy': all_correct, 'Label': all_labels, 'Prediction': all_pred}\n",
    "results_df = pd.DataFrame(results_dict)\n",
    "results_df.head()"
   ]
  },
  {
   "cell_type": "code",
   "execution_count": 52,
   "metadata": {},
   "outputs": [
    {
     "data": {
      "text/plain": [
       "Prediction\n",
       "(0.0, 0.0, 0.0, 0.0)    9631\n",
       "(0.0, 0.0, 0.0, 1.0)    2742\n",
       "(0.0, 0.0, 1.0, 0.0)     297\n",
       "(0.0, 1.0, 0.0, 0.0)      92\n",
       "(0.0, 1.0, 1.0, 0.0)       9\n",
       "(1.0, 0.0, 0.0, 0.0)      14\n",
       "(1.0, 0.0, 1.0, 0.0)      69\n",
       "(1.0, 1.0, 0.0, 0.0)     413\n",
       "(1.0, 1.0, 1.0, 0.0)     775\n",
       "dtype: int64"
      ]
     },
     "execution_count": 52,
     "metadata": {},
     "output_type": "execute_result"
    }
   ],
   "source": [
    "group = results_df.groupby('Prediction')\n",
    "group.size()"
   ]
  },
  {
   "cell_type": "code",
   "execution_count": 53,
   "metadata": {},
   "outputs": [],
   "source": [
    "results_df.to_csv('../training/checkpoints_combine/eval_results.csv')"
   ]
  }
 ],
 "metadata": {
  "kernelspec": {
   "display_name": "nlp",
   "language": "python",
   "name": "python3"
  },
  "language_info": {
   "codemirror_mode": {
    "name": "ipython",
    "version": 3
   },
   "file_extension": ".py",
   "mimetype": "text/x-python",
   "name": "python",
   "nbconvert_exporter": "python",
   "pygments_lexer": "ipython3",
   "version": "3.10.13"
  }
 },
 "nbformat": 4,
 "nbformat_minor": 2
}
