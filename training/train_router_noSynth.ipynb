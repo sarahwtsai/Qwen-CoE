{
 "cells": [
  {
   "cell_type": "markdown",
   "metadata": {},
   "source": [
    "# Train Router_NoSynth on NoSynthQA"
   ]
  },
  {
   "cell_type": "code",
   "execution_count": 1,
   "metadata": {},
   "outputs": [],
   "source": [
    "import random\n",
    "import sys\n",
    "import numpy as np\n",
    "import pandas as pd\n",
    "import matplotlib.pyplot as plt\n",
    "import ast\n",
    "import torch\n",
    "import os\n",
    "from sklearn.model_selection import train_test_split\n",
    "from torch.utils.data import DataLoader, TensorDataset\n",
    "from torch.nn import Linear\n",
    "from torch.optim import Adam\n",
    "from collections import deque\n",
    "\n",
    "from router import Router\n"
   ]
  },
  {
   "cell_type": "code",
   "execution_count": 2,
   "metadata": {},
   "outputs": [],
   "source": [
    "DEVICE = torch.device(\"cuda\" if torch.cuda.is_available() else \"mps\" if torch.backends.mps.is_available() else \"cpu\")"
   ]
  },
  {
   "cell_type": "code",
   "execution_count": 3,
   "metadata": {},
   "outputs": [
    {
     "data": {
      "text/plain": [
       "(92960, 3)"
      ]
     },
     "execution_count": 3,
     "metadata": {},
     "output_type": "execute_result"
    }
   ],
   "source": [
    "# Create training data (x=question, y=labels)\n",
    "train_df = pd.read_csv(\"train_metadata.csv\", usecols=['source', 'embedding', 'label'])\n",
    "train_df.shape"
   ]
  },
  {
   "cell_type": "code",
   "execution_count": 4,
   "metadata": {},
   "outputs": [
    {
     "data": {
      "text/plain": [
       "(59420, 3)"
      ]
     },
     "execution_count": 4,
     "metadata": {},
     "output_type": "execute_result"
    }
   ],
   "source": [
    "# Remove ComSciQA\n",
    "train_df = train_df[train_df['source'] != 'ComSciQA']\n",
    "train_df.shape"
   ]
  },
  {
   "cell_type": "code",
   "execution_count": 5,
   "metadata": {},
   "outputs": [],
   "source": [
    "# Convert columns to lists\n",
    "train_df['embedding'] = train_df['embedding'].apply(lambda x: ast.literal_eval(x))\n",
    "# train_df['label'] = train_df['label'].apply(lambda x: ast.literal_eval(x))"
   ]
  },
  {
   "cell_type": "code",
   "execution_count": 6,
   "metadata": {},
   "outputs": [],
   "source": [
    "# Change [0,0,0] to [0,0,0,1] to simulate choosing a fallback LLM\n",
    "def expand_labels(label):\n",
    "    if label == '[0, 0, 0]':\n",
    "        return [0,0,0,1]\n",
    "    else:\n",
    "        return ast.literal_eval(label) + [0]\n",
    "    \n",
    "train_df['label'] = train_df['label'].apply(expand_labels)"
   ]
  },
  {
   "cell_type": "code",
   "execution_count": 7,
   "metadata": {},
   "outputs": [],
   "source": [
    "embeddings = np.array(train_df['embedding'].tolist())\n",
    "labels = np.array(train_df['label'].tolist())\n",
    "\n",
    "np.random.seed(42)\n",
    "indices = np.arange(embeddings.shape[0])\n",
    "shuffled_indices = np.random.permutation(indices)\n",
    "embeddings = embeddings[shuffled_indices]\n",
    "labels = labels[shuffled_indices]"
   ]
  },
  {
   "cell_type": "code",
   "execution_count": 8,
   "metadata": {},
   "outputs": [
    {
     "data": {
      "text/plain": [
       "np.False_"
      ]
     },
     "execution_count": 8,
     "metadata": {},
     "output_type": "execute_result"
    }
   ],
   "source": [
    "# Double checking we don't have any cases where no model is chosen\n",
    "contains_zero = np.any(np.all(labels == [0,0,0,0], axis=1))\n",
    "contains_zero"
   ]
  },
  {
   "cell_type": "code",
   "execution_count": 9,
   "metadata": {},
   "outputs": [],
   "source": [
    "train_embeddings, temp_embeddings, train_labels, temp_labels = train_test_split(embeddings, labels, test_size=0.2, random_state=42) \n",
    "val_embeddings, test_embeddings, val_labels, test_labels = train_test_split(temp_embeddings, temp_labels, test_size=0.5, random_state=42)\n",
    "\n",
    "train_embeddings = torch.tensor(train_embeddings, dtype=torch.float32)\n",
    "val_embeddings = torch.tensor(val_embeddings, dtype=torch.float32)\n",
    "test_embeddings = torch.tensor(test_embeddings, dtype=torch.float32)\n",
    "train_labels = torch.tensor(train_labels, dtype=torch.float32)\n",
    "val_labels = torch.tensor(val_labels, dtype=torch.float32)\n",
    "test_labels = torch.tensor(test_labels, dtype=torch.float32)\n",
    "\n",
    "train_data = TensorDataset(train_embeddings, train_labels)\n",
    "val_data = TensorDataset(val_embeddings, val_labels)\n",
    "test_data = TensorDataset(test_embeddings, test_labels)"
   ]
  },
  {
   "cell_type": "code",
   "execution_count": 10,
   "metadata": {},
   "outputs": [
    {
     "name": "stdout",
     "output_type": "stream",
     "text": [
      "Train Shape: torch.Size([47536, 1024])\n",
      "Test Shape: torch.Size([5942, 1024])\n",
      "Validation Shape: torch.Size([5942, 1024])\n"
     ]
    }
   ],
   "source": [
    "print('Train Shape:', train_embeddings.shape)\n",
    "print('Test Shape:', test_embeddings.shape)\n",
    "print('Validation Shape:', val_embeddings.shape)"
   ]
  },
  {
   "cell_type": "markdown",
   "metadata": {},
   "source": [
    "## Training"
   ]
  },
  {
   "cell_type": "code",
   "execution_count": 11,
   "metadata": {},
   "outputs": [],
   "source": [
    "# Load trained router\n",
    "def load_router(device, model_path=\"router.pth\"):\n",
    "    router = Router(input_dim=1024, output_dim=4).to(device)\n",
    "    router.load_state_dict(torch.load(model_path, map_location=device))\n",
    "    router.train()\n",
    "    return router"
   ]
  },
  {
   "cell_type": "code",
   "execution_count": null,
   "metadata": {},
   "outputs": [],
   "source": [
    "def train_model(model, train_data, val_data, device, patience=5, lr=0.001, epochs=10, batch_size=32, ckpt_dir='checkpoints/router'):\n",
    "    # Set up loss function for imbalanced labels\n",
    "    num_positives = train_data[:][1].sum(dim=0)\n",
    "    num_negatives = len(train_data[:][1]) - num_positives\n",
    "    pos_weight = num_negatives / num_positives\n",
    "    criterion = torch.nn.BCEWithLogitsLoss(pos_weight=pos_weight.to(device))\n",
    "    # criterion = torch.nn.BCELoss()\n",
    "    optimizer = Adam(model.parameters(), lr=lr)\n",
    "\n",
    "    train_loader = DataLoader(train_data, batch_size=batch_size, shuffle=True)\n",
    "    val_loader = DataLoader(val_data, batch_size=batch_size, shuffle=False)\n",
    "\n",
    "    best_val_acc = 0\n",
    "    all_train_loss = []\n",
    "    all_train_acc = []\n",
    "    all_val_loss = []\n",
    "    all_val_acc = []\n",
    "    val_loss_history = deque(maxlen=patience)\n",
    "\n",
    "    for epoch in range(epochs):\n",
    "        # Training\n",
    "        model.train()\n",
    "        train_loss = 0\n",
    "        train_correct = 0\n",
    "        train_total = 0\n",
    "\n",
    "        for X_batch, y_batch in train_loader:\n",
    "            X_batch, y_batch = X_batch.to(device), y_batch.to(device)\n",
    "\n",
    "            optimizer.zero_grad()\n",
    "            outputs = model(X_batch.float())\n",
    "\n",
    "            loss = criterion(outputs, y_batch)\n",
    "            loss.backward()\n",
    "            optimizer.step()\n",
    "\n",
    "            train_loss += loss.item()\n",
    "            predicted = (outputs > 0.5).float() # Threshold at 0.5 for multi-label classification\n",
    "            # train_correct += (predicted == y_batch).all(dim=1).sum().item()\n",
    "            matches = (predicted * y_batch).sum(dim=1) > 0\n",
    "            train_correct += matches.sum().item()\n",
    "            train_total += y_batch.size(0)\n",
    "        \n",
    "        train_acc = train_correct / train_total\n",
    "        train_loss = train_loss / len(train_loader)\n",
    "        all_train_acc.append(train_acc)\n",
    "        all_train_loss.append(train_loss)\n",
    "\n",
    "        # Validation\n",
    "        model.eval()\n",
    "        val_loss = 0\n",
    "        val_correct = 0\n",
    "        val_total = 0\n",
    "        with torch.no_grad():\n",
    "            for X_batch, y_batch in val_loader:\n",
    "                X_batch, y_batch = X_batch.to(device), y_batch.to(device)\n",
    "                outputs = model(X_batch.float())\n",
    "                val_loss += criterion(outputs, y_batch).item()\n",
    "                predicted = (outputs > 0.5).float() # Threshold at 0.5 for multi-label classification\n",
    "                # val_correct += (predicted == y_batch).all(dim=1).sum().item()\n",
    "                matches = (predicted * y_batch).sum(dim=1) > 0\n",
    "                val_correct += matches.sum().item()\n",
    "                val_total += y_batch.size(0)\n",
    "\n",
    "        \n",
    "        val_acc = val_correct / val_total\n",
    "        val_loss = val_loss / len(val_loader)\n",
    "        all_val_acc.append(val_acc)\n",
    "        all_val_loss.append(val_loss)\n",
    "        if epoch % 5 == 0:\n",
    "            print(f\"Epoch [{epoch}/{epochs}] - Train Loss: {train_loss:.5f}, Val Loss: {val_loss:.5f}, Train Accuracy: {train_acc:.5f}, Val Accuracy: {val_acc:.5f}\")\n",
    "\n",
    "        # if epoch == 0:\n",
    "        #     val_loss_history.append(val_loss)\n",
    "        # # Reset patience if current validation loss is less than the previous validation loss\n",
    "        # else:\n",
    "        #     if val_loss < val_loss_history[-1]:\n",
    "        #         val_loss_history = deque(maxlen=patience)\n",
    "        #         val_loss_history.append(val_loss)\n",
    "        #     else:\n",
    "        #         val_loss_history.append(val_loss)\n",
    "\n",
    "        val_loss_history.append(val_loss)\n",
    "\n",
    "        # Early stopping if validation loss doesn't decrease\n",
    "        if len(val_loss_history) == patience and val_loss >= min(val_loss_history):\n",
    "            print(\"Early stopping triggered\")       \n",
    "            print(f'Highest Validation Accuracy: {best_val_acc}, Lowest Validation Loss: {min(all_val_loss)}')\n",
    "            torch.save(model.state_dict(), os.path.join(ckpt_dir, f'epoch={epoch}_loss={loss:.3f}_tacc={train_acc:.3f}_vacc={val_acc:.3f}.pth'))\n",
    "            return all_train_loss, all_train_acc, all_val_loss, all_val_acc\n",
    "        \n",
    "        # Save model if validation accuracy improves\n",
    "        if val_acc > best_val_acc:\n",
    "            best_val_acc = val_acc\n",
    "            torch.save(model.state_dict(), os.path.join(ckpt_dir, f'epoch={epoch}_loss={loss:.3f}_tacc={train_acc:.3f}_vacc={val_acc:.3f}.pth'))\n",
    "    \n",
    "    print(f'Highest Validation Accuracy: {best_val_acc}, Lowest Validation Loss: {min(all_val_loss)}')\n",
    "    return all_train_loss, all_train_acc, all_val_loss, all_val_acc\n",
    "\n"
   ]
  },
  {
   "cell_type": "code",
   "execution_count": 13,
   "metadata": {},
   "outputs": [],
   "source": [
    "def evaluate_model(model, test_data, device):\n",
    "    test_loader = DataLoader(test_data, batch_size=32, shuffle=False)\n",
    "\n",
    "    model.eval()\n",
    "    test_correct = 0\n",
    "    test_total = 0\n",
    "    with torch.no_grad():\n",
    "        for X_batch, y_batch in test_loader:\n",
    "            X_batch, y_batch = X_batch.to(device), y_batch.to(device)\n",
    "            outputs = model(X_batch.float())\n",
    "            predicted = (outputs > 0.5).float() # Threshold at 0.5 for multi-label classification\n",
    "            # test_correct += (predicted == y_batch).all(dim=1).sum().item()\n",
    "            matches = (predicted * y_batch).sum(dim=1) > 0\n",
    "            test_correct += matches.sum().item()\n",
    "            test_total += y_batch.size(0)\n",
    "\n",
    "    test_acc = test_correct / test_total\n",
    "    print('Test Accuracy:', test_acc)\n",
    "    return test_acc"
   ]
  },
  {
   "cell_type": "code",
   "execution_count": 20,
   "metadata": {},
   "outputs": [],
   "source": [
    "# Dictionary to store results\n",
    "results = {}"
   ]
  },
  {
   "cell_type": "code",
   "execution_count": null,
   "metadata": {},
   "outputs": [],
   "source": [
    "# Define multiple hyperparameter sets to test\n",
    "hyperparameter_configs = [\n",
    "    {\"epochs\": 500, \"patience\": 50, \"batch\": 16, \"lr\": 0.0001},\n",
    "    {\"epochs\": 500, \"patience\": 50, \"batch\": 16, \"lr\": 0.0005},\n",
    "    {\"epochs\": 500, \"patience\": 50, \"batch\": 16, \"lr\": 0.001},\n",
    "    {\"epochs\": 500, \"patience\": 50, \"batch\": 16, \"lr\": 0.005},\n",
    "]\n",
    "\n",
    "for config in hyperparameter_configs:\n",
    "    config[\"label\"] = f\"epochs={config['epochs']}_patience={config['patience']}_batch={config['batch']}_lr={config['lr']}\"\n",
    "\n",
    "# Directory to store model checkpoints\n",
    "save_dir = \"./checkpoints_noSynth\"\n",
    "os.makedirs(save_dir, exist_ok=True)\n",
    "\n",
    "# torch.seed()\n",
    "for config in hyperparameter_configs:\n",
    "    model = Router(input_dim=len(embeddings[0]), output_dim=len(labels[0])).to(DEVICE)\n",
    "    model_dir = os.path.join(save_dir, config['label'])\n",
    "    if os.path.isdir(model_dir):\n",
    "        print(f\"Model exists. Skip training with {config}\")\n",
    "        continue\n",
    "    else:\n",
    "        os.makedirs(model_dir, exist_ok=True)\n",
    "    print(f\"Training with {config}\")\n",
    "\n",
    "    all_train_loss, all_train_acc, all_val_loss, all_val_acc = train_model(model, \n",
    "                                                                        train_data, \n",
    "                                                                        val_data, \n",
    "                                                                        DEVICE, \n",
    "                                                                        patience=config['patience'], \n",
    "                                                                        lr=config['lr'], \n",
    "                                                                        epochs=config['epochs'], \n",
    "                                                                        batch_size=config['batch'], \n",
    "                                                                        ckpt_dir=model_dir\n",
    "                                                                        )\n",
    "    \n",
    "    test_acc = evaluate_model(model, test_data, DEVICE)\n",
    "    \n",
    "    results[config['label']] = [config['epochs'], config['patience'], config['lr'], config['batch'], all_train_loss, all_train_acc, all_val_loss, all_val_acc, test_acc]\n",
    "    print('-----'*20)\n"
   ]
  },
  {
   "cell_type": "code",
   "execution_count": null,
   "metadata": {},
   "outputs": [],
   "source": [
    "formatted_results = [(key, *values) for key, values in results.items()]\n",
    "results_df = pd.DataFrame(formatted_results, columns=['Model_Parameters', 'Epochs', 'Patience', 'Learning_Rate', 'Batch_Size', 'Train_Loss', 'Training_Accuracy', 'Validation_Loss', 'Validation_Accuracy', 'Test_Accuracy'])\n",
    "results_df.to_csv(\"./checkpoints_noSynth/results_summary_noSynth.csv\")"
   ]
  }
 ],
 "metadata": {
  "kernelspec": {
   "display_name": "nlp",
   "language": "python",
   "name": "python3"
  },
  "language_info": {
   "codemirror_mode": {
    "name": "ipython",
    "version": 3
   },
   "file_extension": ".py",
   "mimetype": "text/x-python",
   "name": "python",
   "nbconvert_exporter": "python",
   "pygments_lexer": "ipython3",
   "version": "3.10.13"
  }
 },
 "nbformat": 4,
 "nbformat_minor": 2
}
