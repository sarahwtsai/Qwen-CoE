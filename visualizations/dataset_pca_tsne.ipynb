{
 "cells": [
  {
   "cell_type": "markdown",
   "metadata": {},
   "source": [
    "# Visualize MMLU and Training Dataset Question Embeddings Using PCA and t-SNE"
   ]
  },
  {
   "cell_type": "code",
   "execution_count": null,
   "metadata": {},
   "outputs": [],
   "source": [
    "from sklearn.decomposition import PCA\n",
    "from sklearn.manifold import TSNE\n",
    "import altair as alt\n",
    "import pandas as pd \n",
    "import ast\n",
    "import numpy as np"
   ]
  },
  {
   "cell_type": "code",
   "execution_count": 3,
   "metadata": {},
   "outputs": [],
   "source": [
    "mmlu_df = pd.read_csv(\"../training/mmlu_test_metadata.csv\", usecols=['question', 'source', 'subject', 'embedding'])\n",
    "combine_df = pd.read_csv(\"../training/train_metadata.csv\", usecols=['question', 'source', 'subject', 'embedding'])"
   ]
  },
  {
   "cell_type": "code",
   "execution_count": 4,
   "metadata": {},
   "outputs": [],
   "source": [
    "# Shuffle datasets and grab the first 1500 rows\n",
    "combine_df = combine_df.sample(frac=1, random_state=42).reset_index(drop=True)\n",
    "combine_df_subset = combine_df.head(1500)\n",
    "\n",
    "mmlu_df = mmlu_df.sample(frac=1, random_state=42).reset_index(drop=True)\n",
    "mmlu_df_subset = mmlu_df.head(1500)"
   ]
  },
  {
   "cell_type": "code",
   "execution_count": 5,
   "metadata": {},
   "outputs": [
    {
     "data": {
      "text/plain": [
       "(3000, 4)"
      ]
     },
     "execution_count": 5,
     "metadata": {},
     "output_type": "execute_result"
    }
   ],
   "source": [
    "concat_df = pd.concat([mmlu_df_subset, combine_df_subset], ignore_index=True)\n",
    "concat_df.shape"
   ]
  },
  {
   "cell_type": "code",
   "execution_count": 6,
   "metadata": {},
   "outputs": [],
   "source": [
    "# Convert embeddings to lists\n",
    "concat_df['embedding'] = concat_df['embedding'].apply(lambda x: ast.literal_eval(x))"
   ]
  },
  {
   "cell_type": "markdown",
   "metadata": {},
   "source": [
    "## PCA Visualization"
   ]
  },
  {
   "cell_type": "code",
   "execution_count": 7,
   "metadata": {},
   "outputs": [
    {
     "data": {
      "text/html": [
       "<div>\n",
       "<style scoped>\n",
       "    .dataframe tbody tr th:only-of-type {\n",
       "        vertical-align: middle;\n",
       "    }\n",
       "\n",
       "    .dataframe tbody tr th {\n",
       "        vertical-align: top;\n",
       "    }\n",
       "\n",
       "    .dataframe thead th {\n",
       "        text-align: right;\n",
       "    }\n",
       "</style>\n",
       "<table border=\"1\" class=\"dataframe\">\n",
       "  <thead>\n",
       "    <tr style=\"text-align: right;\">\n",
       "      <th></th>\n",
       "      <th>question</th>\n",
       "      <th>subject</th>\n",
       "      <th>source</th>\n",
       "      <th>embedding</th>\n",
       "      <th>PCA1</th>\n",
       "      <th>PCA2</th>\n",
       "    </tr>\n",
       "  </thead>\n",
       "  <tbody>\n",
       "    <tr>\n",
       "      <th>0</th>\n",
       "      <td>If a psychologist acts as both a fact witness ...</td>\n",
       "      <td>professional_psychology</td>\n",
       "      <td>MMLU</td>\n",
       "      <td>[-0.0007376694702543318, -0.021310580894351006...</td>\n",
       "      <td>0.104445</td>\n",
       "      <td>0.172764</td>\n",
       "    </tr>\n",
       "    <tr>\n",
       "      <th>1</th>\n",
       "      <td>In what ways does the perspective on terrorism...</td>\n",
       "      <td>security_studies</td>\n",
       "      <td>MMLU</td>\n",
       "      <td>[0.023837367072701454, 0.015235863626003265, -...</td>\n",
       "      <td>-0.152022</td>\n",
       "      <td>0.040882</td>\n",
       "    </tr>\n",
       "    <tr>\n",
       "      <th>2</th>\n",
       "      <td>George was charged with the murder of a well- ...</td>\n",
       "      <td>professional_law</td>\n",
       "      <td>MMLU</td>\n",
       "      <td>[0.04566001519560814, 0.023941989988088608, -0...</td>\n",
       "      <td>0.143341</td>\n",
       "      <td>0.171975</td>\n",
       "    </tr>\n",
       "    <tr>\n",
       "      <th>3</th>\n",
       "      <td>Can countries rely on their domestic law as an...</td>\n",
       "      <td>international_law</td>\n",
       "      <td>MMLU</td>\n",
       "      <td>[0.004619034007191658, 0.019672941416502, -0.0...</td>\n",
       "      <td>-0.062229</td>\n",
       "      <td>0.109203</td>\n",
       "    </tr>\n",
       "    <tr>\n",
       "      <th>4</th>\n",
       "      <td>A 30-year-old nulliparous female presents to t...</td>\n",
       "      <td>professional_medicine</td>\n",
       "      <td>MMLU</td>\n",
       "      <td>[0.016010042279958725, 0.01382381934672594, -0...</td>\n",
       "      <td>0.113146</td>\n",
       "      <td>0.136764</td>\n",
       "    </tr>\n",
       "  </tbody>\n",
       "</table>\n",
       "</div>"
      ],
      "text/plain": [
       "                                            question                  subject  \\\n",
       "0  If a psychologist acts as both a fact witness ...  professional_psychology   \n",
       "1  In what ways does the perspective on terrorism...         security_studies   \n",
       "2  George was charged with the murder of a well- ...         professional_law   \n",
       "3  Can countries rely on their domestic law as an...        international_law   \n",
       "4  A 30-year-old nulliparous female presents to t...    professional_medicine   \n",
       "\n",
       "  source                                          embedding      PCA1  \\\n",
       "0   MMLU  [-0.0007376694702543318, -0.021310580894351006...  0.104445   \n",
       "1   MMLU  [0.023837367072701454, 0.015235863626003265, -... -0.152022   \n",
       "2   MMLU  [0.04566001519560814, 0.023941989988088608, -0...  0.143341   \n",
       "3   MMLU  [0.004619034007191658, 0.019672941416502, -0.0... -0.062229   \n",
       "4   MMLU  [0.016010042279958725, 0.01382381934672594, -0...  0.113146   \n",
       "\n",
       "       PCA2  \n",
       "0  0.172764  \n",
       "1  0.040882  \n",
       "2  0.171975  \n",
       "3  0.109203  \n",
       "4  0.136764  "
      ]
     },
     "execution_count": 7,
     "metadata": {},
     "output_type": "execute_result"
    }
   ],
   "source": [
    "pca = PCA(n_components=2)\n",
    "concat_df[['PCA1', 'PCA2']] = pca.fit_transform(concat_df['embedding'].tolist())\n",
    "concat_df.head()"
   ]
  },
  {
   "cell_type": "code",
   "execution_count": 8,
   "metadata": {},
   "outputs": [],
   "source": [
    "selection = alt.selection_point(fields=['source'], bind='legend')\n",
    "\n",
    "scatter = alt.Chart(concat_df).mark_circle(size=50).encode(\n",
    "    x = \"PCA1:Q\",\n",
    "    y = \"PCA2:Q\",\n",
    "    color = alt.Color(\"source:N\", legend=alt.Legend(title='Dataset'), scale=alt.Scale(scheme='tableau10')),\n",
    "    tooltip=['question', 'source', 'subject'],\n",
    "    opacity=alt.condition(selection, alt.value(1), alt.value(0))\n",
    ").add_params(\n",
    "    selection\n",
    ").properties(\n",
    "    width=800,\n",
    "    height=500,\n",
    "    title=\"PCA of Dataset Question Embeddings\"\n",
    ").interactive()\n",
    "\n",
    "scatter = scatter.configure_axis(\n",
    "    labelFontSize=14,\n",
    "    titleFontSize=16\n",
    ").configure_title(\n",
    "    fontSize=18\n",
    ").configure_legend(\n",
    "    titleFontSize=14,\n",
    "    labelFontSize=12\n",
    ")"
   ]
  },
  {
   "cell_type": "code",
   "execution_count": null,
   "metadata": {},
   "outputs": [],
   "source": [
    "# Resulting graph is too large for GitHub upload\n",
    "# Show visualization\n",
    "scatter"
   ]
  },
  {
   "cell_type": "code",
   "execution_count": 10,
   "metadata": {},
   "outputs": [],
   "source": [
    "scatter.save('dataset_pca.png', ppi=200)"
   ]
  },
  {
   "cell_type": "markdown",
   "metadata": {},
   "source": [
    "## t-SNE Visualization"
   ]
  },
  {
   "cell_type": "code",
   "execution_count": 15,
   "metadata": {},
   "outputs": [
    {
     "data": {
      "text/plain": [
       "(3000,)"
      ]
     },
     "execution_count": 15,
     "metadata": {},
     "output_type": "execute_result"
    }
   ],
   "source": [
    "concat_df['embedding'].shape"
   ]
  },
  {
   "cell_type": "code",
   "execution_count": 18,
   "metadata": {},
   "outputs": [
    {
     "data": {
      "text/html": [
       "<div>\n",
       "<style scoped>\n",
       "    .dataframe tbody tr th:only-of-type {\n",
       "        vertical-align: middle;\n",
       "    }\n",
       "\n",
       "    .dataframe tbody tr th {\n",
       "        vertical-align: top;\n",
       "    }\n",
       "\n",
       "    .dataframe thead th {\n",
       "        text-align: right;\n",
       "    }\n",
       "</style>\n",
       "<table border=\"1\" class=\"dataframe\">\n",
       "  <thead>\n",
       "    <tr style=\"text-align: right;\">\n",
       "      <th></th>\n",
       "      <th>question</th>\n",
       "      <th>subject</th>\n",
       "      <th>source</th>\n",
       "      <th>embedding</th>\n",
       "      <th>PCA1</th>\n",
       "      <th>PCA2</th>\n",
       "      <th>t-SNE_x</th>\n",
       "      <th>t-SNE_y</th>\n",
       "    </tr>\n",
       "  </thead>\n",
       "  <tbody>\n",
       "    <tr>\n",
       "      <th>0</th>\n",
       "      <td>If a psychologist acts as both a fact witness ...</td>\n",
       "      <td>professional_psychology</td>\n",
       "      <td>MMLU</td>\n",
       "      <td>[-0.0007376694702543318, -0.021310580894351006...</td>\n",
       "      <td>0.104445</td>\n",
       "      <td>0.172764</td>\n",
       "      <td>55.748711</td>\n",
       "      <td>50.932869</td>\n",
       "    </tr>\n",
       "    <tr>\n",
       "      <th>1</th>\n",
       "      <td>In what ways does the perspective on terrorism...</td>\n",
       "      <td>security_studies</td>\n",
       "      <td>MMLU</td>\n",
       "      <td>[0.023837367072701454, 0.015235863626003265, -...</td>\n",
       "      <td>-0.152022</td>\n",
       "      <td>0.040882</td>\n",
       "      <td>-45.001488</td>\n",
       "      <td>36.721790</td>\n",
       "    </tr>\n",
       "    <tr>\n",
       "      <th>2</th>\n",
       "      <td>George was charged with the murder of a well- ...</td>\n",
       "      <td>professional_law</td>\n",
       "      <td>MMLU</td>\n",
       "      <td>[0.04566001519560814, 0.023941989988088608, -0...</td>\n",
       "      <td>0.143341</td>\n",
       "      <td>0.171975</td>\n",
       "      <td>59.075195</td>\n",
       "      <td>50.884491</td>\n",
       "    </tr>\n",
       "    <tr>\n",
       "      <th>3</th>\n",
       "      <td>Can countries rely on their domestic law as an...</td>\n",
       "      <td>international_law</td>\n",
       "      <td>MMLU</td>\n",
       "      <td>[0.004619034007191658, 0.019672941416502, -0.0...</td>\n",
       "      <td>-0.062229</td>\n",
       "      <td>0.109203</td>\n",
       "      <td>-37.101765</td>\n",
       "      <td>38.614872</td>\n",
       "    </tr>\n",
       "    <tr>\n",
       "      <th>4</th>\n",
       "      <td>A 30-year-old nulliparous female presents to t...</td>\n",
       "      <td>professional_medicine</td>\n",
       "      <td>MMLU</td>\n",
       "      <td>[0.016010042279958725, 0.01382381934672594, -0...</td>\n",
       "      <td>0.113146</td>\n",
       "      <td>0.136764</td>\n",
       "      <td>33.748497</td>\n",
       "      <td>40.225315</td>\n",
       "    </tr>\n",
       "  </tbody>\n",
       "</table>\n",
       "</div>"
      ],
      "text/plain": [
       "                                            question                  subject  \\\n",
       "0  If a psychologist acts as both a fact witness ...  professional_psychology   \n",
       "1  In what ways does the perspective on terrorism...         security_studies   \n",
       "2  George was charged with the murder of a well- ...         professional_law   \n",
       "3  Can countries rely on their domestic law as an...        international_law   \n",
       "4  A 30-year-old nulliparous female presents to t...    professional_medicine   \n",
       "\n",
       "  source                                          embedding      PCA1  \\\n",
       "0   MMLU  [-0.0007376694702543318, -0.021310580894351006...  0.104445   \n",
       "1   MMLU  [0.023837367072701454, 0.015235863626003265, -... -0.152022   \n",
       "2   MMLU  [0.04566001519560814, 0.023941989988088608, -0...  0.143341   \n",
       "3   MMLU  [0.004619034007191658, 0.019672941416502, -0.0... -0.062229   \n",
       "4   MMLU  [0.016010042279958725, 0.01382381934672594, -0...  0.113146   \n",
       "\n",
       "       PCA2    t-SNE_x    t-SNE_y  \n",
       "0  0.172764  55.748711  50.932869  \n",
       "1  0.040882 -45.001488  36.721790  \n",
       "2  0.171975  59.075195  50.884491  \n",
       "3  0.109203 -37.101765  38.614872  \n",
       "4  0.136764  33.748497  40.225315  "
      ]
     },
     "execution_count": 18,
     "metadata": {},
     "output_type": "execute_result"
    }
   ],
   "source": [
    "tsne = TSNE(n_components=2, perplexity=10, random_state=42)\n",
    "embeddings = np.array(concat_df['embedding'].tolist())\n",
    "embeddings = embeddings.reshape(-1, 1024)\n",
    "concat_df[['t-SNE_x', 't-SNE_y']] = tsne.fit_transform(embeddings)\n",
    "concat_df.head()"
   ]
  },
  {
   "cell_type": "code",
   "execution_count": null,
   "metadata": {},
   "outputs": [],
   "source": [
    "selection = alt.selection_point(fields=['source'], bind='legend')\n",
    "\n",
    "tsne = alt.Chart(concat_df).mark_circle(size=50).encode(\n",
    "    x = \"t-SNE_x:Q\",\n",
    "    y = \"t-SNE_y:Q\",\n",
    "    color = alt.Color(\"source:N\", legend=alt.Legend(title='Dataset'), scale=alt.Scale(scheme='tableau10')),\n",
    "    tooltip=['question', 'source', 'subject'],\n",
    "    opacity=alt.condition(selection, alt.value(1), alt.value(0))\n",
    ").add_params(\n",
    "    selection\n",
    ").properties(\n",
    "    width=800,\n",
    "    height=500,\n",
    "    title=\"t-SNE of Dataset Question Embeddings\"\n",
    ").interactive()\n",
    "\n",
    "tsne = tsne.configure_axis(\n",
    "    labelFontSize=14,\n",
    "    titleFontSize=16\n",
    ").configure_title(\n",
    "    fontSize=18\n",
    ").configure_legend(\n",
    "    titleFontSize=14,\n",
    "    labelFontSize=12\n",
    ")\n",
    "\n",
    "tsne"
   ]
  },
  {
   "cell_type": "code",
   "execution_count": 20,
   "metadata": {},
   "outputs": [],
   "source": [
    "tsne.save('dataset_tsne.png', ppi=200)"
   ]
  }
 ],
 "metadata": {
  "kernelspec": {
   "display_name": "nlp",
   "language": "python",
   "name": "python3"
  },
  "language_info": {
   "codemirror_mode": {
    "name": "ipython",
    "version": 3
   },
   "file_extension": ".py",
   "mimetype": "text/x-python",
   "name": "python",
   "nbconvert_exporter": "python",
   "pygments_lexer": "ipython3",
   "version": "3.10.13"
  }
 },
 "nbformat": 4,
 "nbformat_minor": 2
}
