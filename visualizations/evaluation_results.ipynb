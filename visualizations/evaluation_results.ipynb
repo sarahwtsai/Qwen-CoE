{
 "cells": [
  {
   "cell_type": "markdown",
   "metadata": {},
   "source": [
    "# Visualize Router Results"
   ]
  },
  {
   "cell_type": "code",
   "execution_count": 32,
   "metadata": {},
   "outputs": [],
   "source": [
    "import pandas as pd\n",
    "import altair as alt\n",
    "import matplotlib.pyplot as plt\n",
    "import numpy as np"
   ]
  },
  {
   "cell_type": "code",
   "execution_count": 10,
   "metadata": {},
   "outputs": [
    {
     "data": {
      "text/html": [
       "<div>\n",
       "<style scoped>\n",
       "    .dataframe tbody tr th:only-of-type {\n",
       "        vertical-align: middle;\n",
       "    }\n",
       "\n",
       "    .dataframe tbody tr th {\n",
       "        vertical-align: top;\n",
       "    }\n",
       "\n",
       "    .dataframe thead th {\n",
       "        text-align: right;\n",
       "    }\n",
       "</style>\n",
       "<table border=\"1\" class=\"dataframe\">\n",
       "  <thead>\n",
       "    <tr style=\"text-align: right;\">\n",
       "      <th></th>\n",
       "      <th>Subject</th>\n",
       "      <th>Accuracy</th>\n",
       "      <th>Label</th>\n",
       "      <th>Prediction</th>\n",
       "    </tr>\n",
       "  </thead>\n",
       "  <tbody>\n",
       "    <tr>\n",
       "      <th>0</th>\n",
       "      <td>abstract_algebra</td>\n",
       "      <td>0</td>\n",
       "      <td>[0, 1, 0, 0]</td>\n",
       "      <td>(0.0, 0.0, 0.0, 0.0)</td>\n",
       "    </tr>\n",
       "    <tr>\n",
       "      <th>1</th>\n",
       "      <td>abstract_algebra</td>\n",
       "      <td>1</td>\n",
       "      <td>[0, 0, 0, 1]</td>\n",
       "      <td>(0.0, 0.0, 0.0, 1.0)</td>\n",
       "    </tr>\n",
       "    <tr>\n",
       "      <th>2</th>\n",
       "      <td>abstract_algebra</td>\n",
       "      <td>0</td>\n",
       "      <td>[0, 0, 0, 1]</td>\n",
       "      <td>(1.0, 0.0, 1.0, 0.0)</td>\n",
       "    </tr>\n",
       "    <tr>\n",
       "      <th>3</th>\n",
       "      <td>abstract_algebra</td>\n",
       "      <td>0</td>\n",
       "      <td>[0, 1, 0, 0]</td>\n",
       "      <td>(0.0, 0.0, 0.0, 0.0)</td>\n",
       "    </tr>\n",
       "    <tr>\n",
       "      <th>4</th>\n",
       "      <td>abstract_algebra</td>\n",
       "      <td>0</td>\n",
       "      <td>[1, 0, 0, 0]</td>\n",
       "      <td>(0.0, 0.0, 0.0, 1.0)</td>\n",
       "    </tr>\n",
       "  </tbody>\n",
       "</table>\n",
       "</div>"
      ],
      "text/plain": [
       "            Subject  Accuracy         Label            Prediction\n",
       "0  abstract_algebra         0  [0, 1, 0, 0]  (0.0, 0.0, 0.0, 0.0)\n",
       "1  abstract_algebra         1  [0, 0, 0, 1]  (0.0, 0.0, 0.0, 1.0)\n",
       "2  abstract_algebra         0  [0, 0, 0, 1]  (1.0, 0.0, 1.0, 0.0)\n",
       "3  abstract_algebra         0  [0, 1, 0, 0]  (0.0, 0.0, 0.0, 0.0)\n",
       "4  abstract_algebra         0  [1, 0, 0, 0]  (0.0, 0.0, 0.0, 1.0)"
      ]
     },
     "execution_count": 10,
     "metadata": {},
     "output_type": "execute_result"
    }
   ],
   "source": [
    "combine_df = pd.read_csv('../training/checkpoints/eval_results.csv', index_col=0)\n",
    "nosynth_df = pd.read_csv('../training/checkpoints_noCS/eval_results.csv', index_col=0)\n",
    "mmlu_df = pd.read_csv('../training/checkpoints_mmlu/eval_results.csv', index_col=0)\n",
    "\n",
    "combine_df.head()"
   ]
  },
  {
   "cell_type": "code",
   "execution_count": 48,
   "metadata": {},
   "outputs": [
    {
     "name": "stdout",
     "output_type": "stream",
     "text": [
      "Router_Combine Accuracy: 0.124\n",
      "Router_NoSynth Accuracy: 0.232\n",
      "Router_MMLU Accuracy: 0.006\n"
     ]
    }
   ],
   "source": [
    "combine_acc = combine_df['Accuracy'].mean()\n",
    "nosynth_acc = nosynth_df['Accuracy'].mean()\n",
    "mmlu_acc = mmlu_df['Accuracy'].mean()\n",
    "\n",
    "print(f'Router_Combine Accuracy: {combine_acc:.3f}')\n",
    "print(f'Router_NoSynth Accuracy: {nosynth_acc:.3f}')\n",
    "print(f'Router_MMLU Accuracy: {mmlu_acc:.3f}')\n",
    "\n",
    "mmlu_accuracies = [combine_acc, nosynth_acc, mmlu_acc] \n",
    "test_accuracies = [0.27527969, 0.337765, 0.072709]\n",
    "\n",
    "labels = ['MMLU', 'Test Set']\n",
    "routers = ['Router_Combine', 'Router_NoSynth', 'Router_MMLU']"
   ]
  },
  {
   "cell_type": "code",
   "execution_count": 51,
   "metadata": {},
   "outputs": [
    {
     "name": "stdout",
     "output_type": "stream",
     "text": [
      "Pearson Correlation: 0.964118396407302\n"
     ]
    }
   ],
   "source": [
    "# Pearson correlation between MMLU accuracy and accuracy on the training data's test set\n",
    "mmlu_accuracies = np.array(mmlu_accuracies)\n",
    "test_accuracies = np.array(test_accuracies)\n",
    "\n",
    "corr = np.corrcoef(mmlu_accuracies, test_accuracies)[0,1]\n",
    "print(\"Pearson Correlation:\", corr)"
   ]
  },
  {
   "cell_type": "code",
   "execution_count": 54,
   "metadata": {},
   "outputs": [
    {
     "data": {
      "image/png": "[encoded data removed]",
      "text/plain": [
       "<Figure size 500x500 with 1 Axes>"
      ]
     },
     "metadata": {},
     "output_type": "display_data"
    }
   ],
   "source": [
    "x = np.arange(len(routers))\n",
    "bar_width=0.3\n",
    "plt.figure(figsize=(5,5))\n",
    "plt.bar(x - bar_width/2, mmlu_accuracies, width=bar_width, label='MMLU')\n",
    "# plt.bar(x, router2, width=bar_width, label='Router_NoSynth')\n",
    "plt.bar(x + bar_width/2, test_accuracies, width=bar_width, label='Test Set')\n",
    "\n",
    "plt.xticks(x, routers)\n",
    "plt.title('Router Accuracy on MMLU and Training Data Test Set')\n",
    "plt.xlabel('Router')\n",
    "plt.ylabel('Accuracy')\n",
    "plt.legend()\n",
    "plt.tight_layout()\n",
    "\n",
    "plt.savefig('router_accuracy.png', dpi=200)\n",
    "plt.show()"
   ]
  }
 ],
 "metadata": {
  "kernelspec": {
   "display_name": "nlp",
   "language": "python",
   "name": "python3"
  },
  "language_info": {
   "codemirror_mode": {
    "name": "ipython",
    "version": 3
   },
   "file_extension": ".py",
   "mimetype": "text/x-python",
   "name": "python",
   "nbconvert_exporter": "python",
   "pygments_lexer": "ipython3",
   "version": "3.10.13"
  }
 },
 "nbformat": 4,
 "nbformat_minor": 2
}
